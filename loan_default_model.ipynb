{
 "cells": [
  {
   "cell_type": "markdown",
   "metadata": {},
   "source": [
    "# Loan Default Predictor Model"
   ]
  },
  {
   "cell_type": "markdown",
   "metadata": {},
   "source": [
    "##  Data Exploration and Pre-processing:"
   ]
  },
  {
   "cell_type": "markdown",
   "metadata": {},
   "source": [
    "### Import libraries and datasets:"
   ]
  },
  {
   "cell_type": "code",
   "execution_count": 16,
   "metadata": {},
   "outputs": [],
   "source": [
    "import pandas as pd\n",
    "import numpy as np\n",
    "from datetime import datetime\n",
    "from sklearn import preprocessing \n",
    "import seaborn as sns\n",
    "import xgboost as xgb # type: ignore\n",
    "from sklearn.metrics import classification_report\n",
    "from sklearn.metrics import accuracy_score\n",
    "import matplotlib.pyplot as plt\n",
    "from sklearn.linear_model import LogisticRegression\n",
    "from sklearn.tree import DecisionTreeClassifier\n",
    "from sklearn.naive_bayes import GaussianNB\n",
    "from sklearn.neighbors import KNeighborsClassifier\n",
    "from sklearn.ensemble import RandomForestClassifier\n",
    "from sklearn.metrics import classification_report\n",
    "from sklearn.metrics import accuracy_score\n",
    "from sklearn.feature_selection import RFE\n",
    "from sklearn.model_selection import train_test_split,GridSearchCV\n",
    "import joblib\n",
    "from sklearn.metrics import f1_score\n",
    "%matplotlib inline"
   ]
  },
  {
   "cell_type": "code",
   "execution_count": 13,
   "metadata": {},
   "outputs": [],
   "source": [
    "merchantDetails = pd.DataFrame({\n",
    "\n",
    "})\n",
    "\n",
    "loanScheduleDetails = pd.DataFrame({\n",
    " \n",
    "})\n",
    "\n",
    "loanLedgerDetails = pd.DataFrame({\n",
    " \n",
    "})\n",
    "\n",
    "transactionDetails = pd.DataFrame({\n",
    "\n",
    "})"
   ]
  },
  {
   "cell_type": "markdown",
   "metadata": {},
   "source": [
    "### Formatting"
   ]
  },
  {
   "cell_type": "code",
   "execution_count": null,
   "metadata": {},
   "outputs": [],
   "source": [
    "# Rename columns with same name\n",
    "\n",
    "merchantDetails.rename(columns={'id': 'merchant_code', 'created_at': 'merchant_created_at', 'updated_at':'merchant_updated_at'}, inplace=True)\n",
    "\n",
    "loanScheduleDetails.rename(columns={'id': 'loan_schedule_id', 'created_at': 'loan_schedule_created_at', 'updated_at':'loan_schedule_updated_at', 'paid_date':'loan_schedule_paid_date'}, inplace=True)\n",
    "\n",
    "loanLedgerDetails.rename(columns={'id': 'loan_id', 'created_at': 'loan_created_at', 'updated_at':'loan_updated_at', 'deleted_at':'loan_deleted_at', 'transaction_date':'loan_transaction_date', 'transaction_type':'loan_transaction_type', 'description':'loan_description'}, inplace=True)\n",
    "\n",
    "transactionDetails.rename(columns={'id': 'transaction_id', 'created_at': 'transaction_created_at'}, inplace=True)\n",
    "\n",
    "# Convert date columns to datetime format\n",
    "\n",
    "merchantDetails[['merchant_created_at', 'merchant_updated_at']] = merchantDetails.apply(pd.to_datetime)\n",
    "\n",
    "loanScheduleDetails[['loan_schedule_created_at', 'loan_schedule_updated_at', 'loan_schedule_paid_date', 'schedule_date']] = loanScheduleDetails.apply(pd.to_datetime)\n",
    "\n",
    "loanLedgerDetails[['loan_created_at', 'loan_updated_at', 'loan_deleted_at']] = merchantDetails.apply(pd.to_datetime)\n",
    "\n",
    "transactionDetails[['transaction_datetime', 'transaction_created_at']] = transactionDetails.apply(pd.to_datetime)\n",
    "\n",
    "# Use loans only older than 3 months\n",
    "\n",
    "# Calculate the cutoff date for loans older than 3 months\n",
    "cutoff_date = pd.Timestamp.today() - pd.DateOffset(months=3)\n",
    "\n",
    "loanSchedule = loanScheduleDetails[loanScheduleDetails['schedule_date'] < cutoff_date]\n",
    "\n",
    "loanLedger = loanLedgerDetails[loanLedgerDetails['loan_created_at'] < cutoff_date]\n",
    "\n",
    "# Merge the data on 'merchant_code' to get only merchants who have or have had loans\n",
    "\n",
    "merchants = pd.merge(merchantDetails, loanSchedule[['merchant_code']], on='merchant_code', how='inner')\n",
    "\n",
    "# Filter transactionDetails to only include merchants who have taken loans and transactions prior to loan disbursement\n",
    "\n",
    "transactions = pd.merge(transactionDetails, loanSchedule[['merchant_code', 'loan_schedule_created_at']], on='merchant_code', how='inner')\n",
    "\n",
    "transactions = transactions[transactions['transaction_created_at'] < transactions['loan_schedule_created_at']]"
   ]
  },
  {
   "cell_type": "markdown",
   "metadata": {},
   "source": [
    "### Examining Data:"
   ]
  },
  {
   "cell_type": "markdown",
   "metadata": {},
   "source": [
    "#### Columns and data types:"
   ]
  },
  {
   "cell_type": "code",
   "execution_count": 14,
   "metadata": {},
   "outputs": [
    {
     "data": {
      "text/html": [
       "<div>\n",
       "<style scoped>\n",
       "    .dataframe tbody tr th:only-of-type {\n",
       "        vertical-align: middle;\n",
       "    }\n",
       "\n",
       "    .dataframe tbody tr th {\n",
       "        vertical-align: top;\n",
       "    }\n",
       "\n",
       "    .dataframe thead th {\n",
       "        text-align: right;\n",
       "    }\n",
       "</style>\n",
       "<table border=\"1\" class=\"dataframe\">\n",
       "  <thead>\n",
       "    <tr style=\"text-align: right;\">\n",
       "      <th></th>\n",
       "      <th>loan_request_id</th>\n",
       "      <th>merchant_code</th>\n",
       "      <th>outstanding_amount</th>\n",
       "      <th>paid</th>\n",
       "      <th>created_at</th>\n",
       "      <th>schedule_rank</th>\n",
       "    </tr>\n",
       "  </thead>\n",
       "  <tbody>\n",
       "    <tr>\n",
       "      <th>0</th>\n",
       "      <td>1001</td>\n",
       "      <td>M123</td>\n",
       "      <td>500.0</td>\n",
       "      <td>200.0</td>\n",
       "      <td>2023-07-15</td>\n",
       "      <td>1</td>\n",
       "    </tr>\n",
       "    <tr>\n",
       "      <th>1</th>\n",
       "      <td>1002</td>\n",
       "      <td>M456</td>\n",
       "      <td>1200.0</td>\n",
       "      <td>600.0</td>\n",
       "      <td>2023-08-01</td>\n",
       "      <td>2</td>\n",
       "    </tr>\n",
       "    <tr>\n",
       "      <th>2</th>\n",
       "      <td>1003</td>\n",
       "      <td>M789</td>\n",
       "      <td>800.0</td>\n",
       "      <td>300.0</td>\n",
       "      <td>2023-08-10</td>\n",
       "      <td>1</td>\n",
       "    </tr>\n",
       "    <tr>\n",
       "      <th>3</th>\n",
       "      <td>1004</td>\n",
       "      <td>M101</td>\n",
       "      <td>300.0</td>\n",
       "      <td>100.0</td>\n",
       "      <td>2023-08-15</td>\n",
       "      <td>1</td>\n",
       "    </tr>\n",
       "    <tr>\n",
       "      <th>4</th>\n",
       "      <td>1005</td>\n",
       "      <td>M202</td>\n",
       "      <td>1500.0</td>\n",
       "      <td>800.0</td>\n",
       "      <td>2023-09-01</td>\n",
       "      <td>2</td>\n",
       "    </tr>\n",
       "  </tbody>\n",
       "</table>\n",
       "</div>"
      ],
      "text/plain": [
       "   loan_request_id merchant_code  outstanding_amount   paid  created_at  \\\n",
       "0             1001          M123               500.0  200.0  2023-07-15   \n",
       "1             1002          M456              1200.0  600.0  2023-08-01   \n",
       "2             1003          M789               800.0  300.0  2023-08-10   \n",
       "3             1004          M101               300.0  100.0  2023-08-15   \n",
       "4             1005          M202              1500.0  800.0  2023-09-01   \n",
       "\n",
       "   schedule_rank  \n",
       "0              1  \n",
       "1              2  \n",
       "2              1  \n",
       "3              1  \n",
       "4              2  "
      ]
     },
     "execution_count": 14,
     "metadata": {},
     "output_type": "execute_result"
    }
   ],
   "source": [
    "merchants.head()\n",
    "loans.head()\n",
    "transactions.head()\n",
    "\n"
   ]
  },
  {
   "cell_type": "code",
   "execution_count": null,
   "metadata": {},
   "outputs": [],
   "source": [
    "merchants.info()\n",
    "loans.info()\n",
    "transactions.info()"
   ]
  },
  {
   "cell_type": "markdown",
   "metadata": {},
   "source": [
    "#### Dropping non-required columns:"
   ]
  },
  {
   "cell_type": "code",
   "execution_count": null,
   "metadata": {},
   "outputs": [],
   "source": [
    "merchants=merchants.drop([''],axis=1)\n",
    "loans=loans.drop([''],axis=1)\n",
    "transactions=transactions.drop([''],axis=1)"
   ]
  },
  {
   "cell_type": "markdown",
   "metadata": {},
   "source": [
    "#### Checking and handling missing values:"
   ]
  },
  {
   "cell_type": "code",
   "execution_count": null,
   "metadata": {},
   "outputs": [],
   "source": [
    "missing_info = merchants.isnull().sum()\n",
    "missing_info = loans.isnull().sum()\n",
    "missing_info = transactions.isnull().sum()"
   ]
  },
  {
   "cell_type": "markdown",
   "metadata": {},
   "source": [
    "### Feature engineering:"
   ]
  },
  {
   "cell_type": "code",
   "execution_count": null,
   "metadata": {},
   "outputs": [],
   "source": [
    "df = pd.DataFrame()\n",
    "df['merchant_code'] = merchants['merchant_code']"
   ]
  },
  {
   "cell_type": "markdown",
   "metadata": {},
   "source": [
    "#### Loan Size"
   ]
  },
  {
   "cell_type": "code",
   "execution_count": null,
   "metadata": {},
   "outputs": [],
   "source": [
    "# Filter loan ledger where transaction type is 'DISBURSEMENT'\n",
    "\n",
    "disburse_df = loanLedger[loanLedger['loan_transaction_type'] == 'DISBURSEMENT']\n",
    "\n",
    "df = pd.merge(df, disburse_df[['merchant_code', 'debit']], on='merchant_code', how='left')"
   ]
  },
  {
   "cell_type": "markdown",
   "metadata": {},
   "source": [
    "#### Account age at disbursement"
   ]
  },
  {
   "cell_type": "code",
   "execution_count": null,
   "metadata": {},
   "outputs": [],
   "source": [
    "# Filter loan ledger where transaction type is 'DISBURSEMENT'\n",
    "\n",
    "disbursement_df = loanLedger[loanLedger['loan_transaction_type'] == 'DISBURSEMENT']\n",
    "\n",
    "# Create a mapping from merchants to map merchant_created_at by merchant_code\n",
    "\n",
    "merchant_creation_map = merchants.set_index('merchant_code')['merchant_created_at'].to_dict()\n",
    "\n",
    "# Map merchant_created_at to disbursement_df based on merchant_code\n",
    "\n",
    "disbursement_df['merchant_created_at'] = disbursement_df['merchant_code'].map(merchant_creation_map)\n",
    "\n",
    "# Calculate the difference in days between merchant_created_at and transaction_date\n",
    "\n",
    "disbursement_df['relationage'] = (disbursement_df['loan_transaction_date'] - disbursement_df['merchant_created_at']).dt.days\n",
    "\n",
    "# Select only relevant columns: 'merchant_code' and 'age_at_disbursement'\n",
    "disbursement_age_df = disbursement_df[['merchant_code', 'relationage']]\n",
    "\n",
    "# Merge 'age_at_disbursement' into the existing DataFrame\n",
    "df = pd.merge(df, disbursement_age_df, on='merchant_code', how='left')"
   ]
  },
  {
   "cell_type": "markdown",
   "metadata": {},
   "source": [
    "#### Unique Customers"
   ]
  },
  {
   "cell_type": "code",
   "execution_count": null,
   "metadata": {},
   "outputs": [],
   "source": [
    "# Group by 'merchant_code' and count unique 'pan' (customers)\n",
    "\n",
    "unique_customers_df = transactions.groupby('merchant_code')['pan'].nunique().reset_index()\n",
    "\n",
    "unique_customers_df.rename(columns={'pan': 'unique_customers'}, inplace=True)\n",
    "\n",
    "df = pd.merge(df, unique_customers_df, on='merchant_code', how='left')"
   ]
  },
  {
   "cell_type": "markdown",
   "metadata": {},
   "source": [
    "#### Transaction Characteristics"
   ]
  },
  {
   "cell_type": "code",
   "execution_count": null,
   "metadata": {},
   "outputs": [],
   "source": [
    "def calculate_trans_char(transactions):\n",
    "\n",
    "    # Total\n",
    "    total_freq = transactions.groupby('merchant_code').size().reset_index(name='total_transactions')\n",
    "    total_value = transactions.groupby('merchant_code')['amount'].sum().reset_index(name='total_value')\n",
    "    sales_avg = transactions.groupby('merchant_code')['amount'].mean().reset_index(name='sales_avg')\n",
    "\n",
    "        # Filter transactions for 60 and 90 days before disbursement\n",
    "    disbursement_dates = loanLedger[loanLedger['loan_transaction_type'] == 'DISBURSEMENT']\n",
    "\n",
    "    trans_disburse = pd.merge(transactions, disbursement_dates[['merchant_code', 'loan_transaction_date']], on='merchant_code', how='left')\n",
    "\n",
    "    transactions_30_days = trans_disburse[\n",
    "        (trans_disburse['transaction_datetime'] >= (trans_disburse['disbursement_date'] - pd.Timedelta(days=30))) &\n",
    "        (trans_disburse['transaction_datetime'] < trans_disburse['disbursement_date'])\n",
    "    ]\n",
    "\n",
    "    transactions_60_days = trans_disburse[\n",
    "        (trans_disburse['transaction_datetime'] >= (trans_disburse['disbursement_date'] - pd.Timedelta(days=60))) &\n",
    "        (trans_disburse['transaction_datetime'] < trans_disburse['disbursement_date'])\n",
    "    ]\n",
    "\n",
    "    transactions_90_days = trans_disburse[\n",
    "        (trans_disburse['transaction_datetime'] >= (trans_disburse['disbursement_date'] - pd.Timedelta(days=90))) &\n",
    "        (trans_disburse['transaction_datetime'] < trans_disburse['disbursement_date'])\n",
    "    ]\n",
    "    \n",
    "    transactions_60_90_days = transactions[\n",
    "        (trans_disburse['transaction_datetime'] >= (trans_disburse['disbursement_date'] - pd.Timedelta(days=90))) &\n",
    "        (trans_disburse['transaction_datetime'] < (trans_disburse['disbursement_date'] - pd.Timedelta(days=60)))\n",
    "]\n",
    "\n",
    "    # Calculate frequency for 60 days before disbursement\n",
    "    freq_60_days = transactions_60_days.groupby('merchant_code').size().reset_index(name='freq_60_days')\n",
    "    value_60_days = transactions_60_days.groupby('merchant_code')['amount'].sum().reset_index(name='value_60_days')\n",
    "    sales_avg_60_days = transactions_60_days.groupby('merchant_code')['amount'].mean().reset_index(name='sales_avg_60_days')\n",
    "\n",
    "    # Calculate frequency for 90 days before disbursement\n",
    "    freq_90_days = transactions_90_days.groupby('merchant_code').size().reset_index(name='freq_90_days')\n",
    "    value_90_days = transactions_90_days.groupby('merchant_code')['amount'].sum().reset_index(name='value_90_days')\n",
    "    sales_avg_90_days = transactions_90_days.groupby('merchant_code')['amount'].mean().reset_index(name='sales_avg_90_days')\n",
    "    \n",
    "    std_dev_90_days = transactions_90_days.groupby('merchant_code')['amount'].std().reset_index(name='std_dev_90_days')\n",
    "    \n",
    "    variability = pd.merge(std_dev_90_days, sales_avg_90_days, on='merchant_code', how='left')\n",
    "    \n",
    "    variability['cv_90_days'] = (variability['std_dev_90_days'] / variability['mean_90_days']) * 100\n",
    "\n",
    "    \n",
    "    sales_30_days = transactions_30_days.groupby('merchant_code')['amount'].sum().reset_index(name='sales_30_days')\n",
    "    sales_60_90_days = transactions_60_90_days.groupby('merchant_code')['amount'].sum().reset_index(name='sales_60_90_days')\n",
    "    sales_growth = pd.merge(sales_30_days, sales_60_90_days, on='merchant_code', how='outer')\n",
    "    \n",
    "    sales_growth.fillna(0, inplace=True)\n",
    "    \n",
    "    sales_growth['sales_growth'] = np.where(\n",
    "    sales_growth['sales_60_90_days'] != 0,\n",
    "    (sales_growth['sales_30_days'] - sales_growth['sales_60_90_days']) / sales_growth['sales_60_90_days'] * 100,\n",
    "    np.nan\n",
    "    )\n",
    "\n",
    "    # Merge all the averages into a single DataFrame\n",
    "    trans_char = pd.merge(total_freq, total_value, on='merchant_code', how='left')\n",
    "    trans_char = pd.merge(trans_char, sales_avg, on='merchant_code', how='left')\n",
    "    trans_char = pd.merge(trans_char, freq_60_days, on='merchant_code', how='left')\n",
    "    trans_char = pd.merge(trans_char, value_60_days, on='merchant_code', how='left')\n",
    "    trans_char = pd.merge(trans_char, sales_avg_60_days, on='merchant_code', how='left')\n",
    "    trans_char = pd.merge(trans_char, freq_90_days, on='merchant_code', how='left')\n",
    "    trans_char = pd.merge(trans_char, value_90_days, on='merchant_code', how='left')\n",
    "    trans_char = pd.merge(trans_char, sales_avg_90_days, on='merchant_code', how='left')\n",
    "    trans_char = pd.merge(trans_char, sales_growth[['merchant_code', 'sales_growth']], on='merchant_code', how='left')\n",
    "    trans_char = pd.merge(trans_char, variability[['merchant_code', 'cv_90_days']], on='merchant_code', how='left')\n",
    "\n",
    "    return trans_char\n",
    "\n",
    "\n",
    "transaction_char_df = calculate_trans_char(transactions)\n",
    "\n",
    "df = pd.merge(df, transaction_char_df, on='merchant_code', how='left')\n",
    "\n",
    "df['avg_size'] = df['total_value'] / df['total_freq']"
   ]
  },
  {
   "cell_type": "markdown",
   "metadata": {},
   "source": [
    "#### Sales Growth"
   ]
  },
  {
   "cell_type": "code",
   "execution_count": null,
   "metadata": {},
   "outputs": [],
   "source": [
    "df['loan_sales_ratio'] = df['debit'] / df['value_90_days']\n",
    "df['loan_sales_ratio'] = df['loan_sales_ratio'].replace([np.inf, -np.inf], np.nan)\n",
    "\n"
   ]
  },
  {
   "cell_type": "code",
   "execution_count": null,
   "metadata": {},
   "outputs": [],
   "source": [
    "pf = df['merchant_code', 'loan_sales_ratio', 'sales_growth']"
   ]
  },
  {
   "cell_type": "markdown",
   "metadata": {},
   "source": []
  },
  {
   "cell_type": "markdown",
   "metadata": {},
   "source": [
    "### Checking for outliers and removing them:"
   ]
  },
  {
   "cell_type": "markdown",
   "metadata": {},
   "source": [
    "\n",
    "Features: total transaction volume, number of transactions, average transaction size, transaction frequency, transaction amount variability, sales growth rate, decline in transaction volume, weekend transaction percentage, peak sales hours, transaction type distribution, average transaction growth, sales variability, sales seasonality, number of unique customers, customer retention rate, Herfindahl-Hirschman Index (HHI) of customer concentration, decline in transaction frequency, refund percentage, days since last transaction, percent of high-ticket transactions, transaction patterns on holidays or off-business hours, merchant performance relative to peers, merchant market share in district, post-loan sales growth, transaction volume volatility post-loan, change in average transaction size post-loan, sales volatility post-loan, percentage of refunded transactions post-loan, business type, business location, length of relationship, merchant size"
   ]
  },
  {
   "cell_type": "markdown",
   "metadata": {},
   "source": [
    "Balancing the dataset:"
   ]
  },
  {
   "cell_type": "markdown",
   "metadata": {},
   "source": []
  },
  {
   "cell_type": "markdown",
   "metadata": {},
   "source": [
    "## Notes:"
   ]
  }
 ],
 "metadata": {
  "kernelspec": {
   "display_name": "Python 3 (ipykernel)",
   "language": "python",
   "name": "python3"
  },
  "language_info": {
   "codemirror_mode": {
    "name": "ipython",
    "version": 3
   },
   "file_extension": ".py",
   "mimetype": "text/x-python",
   "name": "python",
   "nbconvert_exporter": "python",
   "pygments_lexer": "ipython3",
   "version": "3.12.2"
  }
 },
 "nbformat": 4,
 "nbformat_minor": 4
}
